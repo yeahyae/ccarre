{
  "nbformat": 4,
  "nbformat_minor": 0,
  "metadata": {
    "colab": {
      "provenance": [],
      "gpuType": "T4",
      "include_colab_link": true
    },
    "kernelspec": {
      "name": "python3",
      "display_name": "Python 3"
    },
    "language_info": {
      "name": "python"
    },
    "accelerator": "GPU"
  },
  "cells": [
    {
      "cell_type": "markdown",
      "metadata": {
        "id": "view-in-github",
        "colab_type": "text"
      },
      "source": [
        "<a href=\"https://colab.research.google.com/github/yeahyae/ccarre/blob/ccarre_video_automation/CCARR%C3%89_Automation_Code.ipynb\" target=\"_parent\"><img src=\"https://colab.research.google.com/assets/colab-badge.svg\" alt=\"Open In Colab\"/></a>"
      ]
    },
    {
      "cell_type": "markdown",
      "source": [
        "# YT API KEY"
      ],
      "metadata": {
        "id": "vwffwe06BewA"
      }
    },
    {
      "cell_type": "code",
      "source": [
        "\n",
        "!pip install google-api-python-client requests\n",
        "!pip install youtube-transcript-api\n",
        "from googleapiclient.discovery import build\n",
        "from youtube_transcript_api import YouTubeTranscriptApi, NoTranscriptFound, VideoUnavailable\n"
      ],
      "metadata": {
        "id": "5G2aAB9zBleV",
        "collapsed": true
      },
      "execution_count": null,
      "outputs": []
    },
    {
      "cell_type": "markdown",
      "source": [
        "# User Content Lookup"
      ],
      "metadata": {
        "id": "Mj8_DPAiDT7S"
      }
    },
    {
      "cell_type": "code",
      "source": [
        "\n",
        "# Step 1: User input\n",
        "user_input = input(\"Enter the math concept you're struggling with: \")\n",
        "\n",
        "# Step 2: Use the user input to search YouTube using YouTube's API\n",
        "YOUTUBE_API_KEY = ''\n",
        "youtube = build('youtube', 'v3', developerKey=YOUTUBE_API_KEY)\n",
        "\n",
        "search_response = youtube.search().list(\n",
        "    q=user_input,\n",
        "    part='snippet',\n",
        "    maxResults=3  # Get top 3 results\n",
        ").execute()\n",
        "\n",
        "# Try each video until you find a transcript\n",
        "for item in search_response['items']:\n",
        "    video_id = item['id']['videoId']\n",
        "\n",
        "    try:\n",
        "        # Step 3: Attempt to retrieve the transcript using youtube-transcript-api\n",
        "        transcript_list = YouTubeTranscriptApi.get_transcript(video_id)\n",
        "\n",
        "        # Convert the list of dictionaries to a single string\n",
        "        explanation = \" \".join([entry['text'] for entry in transcript_list])\n",
        "\n",
        "        # Print the explanation\n",
        "        print(\"Explanation extracted from the video:\")\n",
        "        print(explanation)\n",
        "        break  # Stop after finding the first valid transcript\n",
        "\n",
        "    except NoTranscriptFound:\n",
        "        print(f\"No transcript found for video ID {video_id}. Trying the next video.\")\n",
        "    except VideoUnavailable:\n",
        "        print(f\"Video ID {video_id} is unavailable. Trying the next video.\")\n",
        "    except Exception as e:\n",
        "        print(f\"An error occurred: {str(e)}. Trying the next video.\")\n",
        "else:\n",
        "    print(\"No valid transcripts were found for the top search results.\")"
      ],
      "metadata": {
        "id": "6OrwW_GGDWrg"
      },
      "execution_count": null,
      "outputs": []
    },
    {
      "cell_type": "markdown",
      "source": [
        "#OpenAI API KEY"
      ],
      "metadata": {
        "id": "mgfwIwPrDHKS"
      }
    },
    {
      "cell_type": "code",
      "source": [
        "!pip install openai\n",
        "from openai import OpenAI\n",
        "\n",
        "# Initialize the OpenAI client with your API key directly\n",
        "client = OpenAI(\n",
        "    api_key=\"sk-\"  # Replace with your actual API key\n",
        ")\n"
      ],
      "metadata": {
        "id": "yTHm9_ZPDJAb",
        "collapsed": true
      },
      "execution_count": null,
      "outputs": []
    },
    {
      "cell_type": "markdown",
      "source": [
        "#OpenAI Fine-Tuned Model *DON'T TOUCH*"
      ],
      "metadata": {
        "id": "ItZJRyuAaBx6"
      }
    },
    {
      "cell_type": "code",
      "source": [
        "explanation = \"\"\"in this lesson we're going to talk about the integral of tangent x dx so what do you think we need to do in order to integrate this function the first thing we need to do is convert tangent into sine and cosine so you need to know that tangent is sine divided by cosine so now how can we integrate this expression we need to use a technique known as u substitution we're going to make u equal to cosine x and d u is going to be the derivative of cosine which is negative sine x times dx now at this point what i like to do is i like to solve for dx i'm going to divide both sides by negative sine x and so dx is equal to negative d u divided by sine now let's replace cosine x with the u variable and let's replace dx with negative d u over sine so we're going to have the integral of sine x divided by u times negative d u over sine so now we can cancel sine x and i'm going to take the negative sign and move it to the front so this is going to be negative integral 1 over u d u what is the anti-derivative of one over u the anti-derivative of one over u is the natural log function ln of u plus c now our next step is to replace u with what it equals we set u equal to cosine so right now we have the natural log of cosine plus c but we have a negative sign in front now we don't need to leave the answer in this form we can adjust it a property of logs that you need to know is the power rule of logs for example let's say if you have ln x to the fourth this is equal to four ln x so you can move the four to the front or you can move the four back to the exponent position and that's what we're going to do in this example right now we have a negative one in front of the natural log expression and so we're going to move it to cosine so this is going to be equal to positive natural log cosine to the negative one power and so that's equal to the natural log of one over cosine now what trig function is equal to one divided by cosine it's one of those reciprocal identities that you need to know for trig one over cosine is secant so this is the natural log of secant x plus c and so this is the integral of the tangent x function it's ln secant plus c now for the sake of practice let's find the integral of cotangent x feel free to pause the video follow the same procedure to integrate this function so first let's convert cotangent into cosine divided by sine and then let's use u substitution so set u equal to the part on the bottom that is sine in this case so d u the derivative of sine is going to be cosine x dx so solving for dx it's going to be du divided by cosine so let's replace cosine i mean sine with the u variable and then let's replace dx with du over cosine so we're going to have the integral of cosine x divided by u times d u divided by cosine and so we could cancel cosine at this point and so this becomes the integral of one over u d u which is the natural log of u plus c and then u is equal to sine and so this is going to be ln sine x plus c now we don't have a negative sign in front so we don't need to modify this expression so this is the integral of the cotangent function the natural log of sine x plus c and so that's it you\"\"\"\n",
        "\n",
        "# Create a chat completion\n",
        "chat_completion = client.chat.completions.create(\n",
        "    model=\"ft:gpt-4o-2024-08-06:personal:ccarre:9z9gzNOs\",  # or \"gpt-4\" if you have access\n",
        "\n",
        "messages = [\n",
        "\n",
        "    {\"role\": \"system\", \"content\": \"You are a math tutor that speaks English.\"},\n",
        "    {\"role\": \"user\", \"content\": f\"\"\"Hey chat. You are a math tutor that speaks English. I want you to process this input of an explicative text of a math concept: [{explanation}] \\n\\n Transform the previously quoted explicative text in between square brackets into a 60-second conversation/skit between two people and output the result as a skit/script. 1. Start the script with a casual greeting like “Yooooo (name of the person if specified), what’s (the name of the concept)” 2. Make sure both characters in the script say as much lines/text as the other. Don’t make one person say way more lines than the other 3. Imagine that in this conversation, Person 1 played the role of (Kylian Mbappé), and Person 2 played the role of (Jude Bellingham). If specified, I want you to re-enact their accent, vocabulary, expressions, etc. Don’t force the impression but integrate it smoothly.\"\"\"}\n",
        "\n",
        "]\n",
        ")\n",
        "\n",
        "# Print the response content correctly\n",
        "print(chat_completion.choices[0].message.content)"
      ],
      "metadata": {
        "id": "wP7vCZLwzAlE",
        "collapsed": true
      },
      "execution_count": null,
      "outputs": []
    },
    {
      "cell_type": "markdown",
      "source": [],
      "metadata": {
        "id": "u-5hVkvbfQqM"
      }
    },
    {
      "cell_type": "code",
      "source": [
        "response = \"\"\"\n",
        "Person 1: So Ronaldo, what's it like finding limits at infinity?\n",
        "\n",
        "Person 2: It's what happens to the function when x gets really big.\n",
        "\n",
        "Person 1: I know that when you divide by a high number, you get zero.\n",
        "\n",
        "Person 2: For these limits here, terms with the biggest degrees are what matter the most on each side.\n",
        "\n",
        "Person 1: So we only keep those ones, innit? If you simplify, we get 5 over x. The limit's just 0.\n",
        "\n",
        "Person 2: Same thing here, we only keep the highest degree on each side.\n",
        "\n",
        "Person 1: YOOOOO, they cancel out, so the limit's just 8 over 4, so 2.\n",
        "\n",
        "Person 2: If you see the graph Rio, there's an asymptote.\n",
        "\n",
        "Person 1: The dotted line at y = 2, that's our limit bruv.\n",
        "\n",
        "Person 2: This one is the opposite. The degree of the top is higher.\n",
        "\n",
        "Person 1: So the top function is growing faster than the bottom one.\n",
        "\n",
        "Person 2: So the limit is infinity.\n",
        "\"\"\"\n",
        "print(response)"
      ],
      "metadata": {
        "id": "kCn6sO8OehRt",
        "collapsed": true
      },
      "execution_count": null,
      "outputs": []
    },
    {
      "cell_type": "markdown",
      "source": [
        "# Script Generation"
      ],
      "metadata": {
        "id": "_5Y4msplBwbx"
      }
    },
    {
      "cell_type": "code",
      "source": [
        "from google.colab import drive\n",
        "drive.mount('/content/drive')"
      ],
      "metadata": {
        "id": "6iGy9ny7evbq",
        "collapsed": true
      },
      "execution_count": null,
      "outputs": []
    },
    {
      "cell_type": "code",
      "source": [
        "# Remove 'Person 1:' and 'Person 2:'\n",
        "cleaned_script = response.replace(\"Person 1:\", \"\").replace(\"Person 2:\", \"\").strip()\n",
        "\n",
        "# Split the text into lines and create a list of non-empty lines\n",
        "lines = [line.strip() for line in cleaned_script.splitlines() if line.strip()]\n",
        "\n",
        "# Create a dictionary including both even and odd lines, assigning consecutive line numbers\n",
        "lines_dict = {f'line{i + 1}': lines[i] for i in range(len(lines))}\n",
        "\n",
        "# Output the dictionary\n",
        "print(lines_dict)"
      ],
      "metadata": {
        "id": "a2mKI4sACA1u",
        "collapsed": true
      },
      "execution_count": null,
      "outputs": []
    },
    {
      "cell_type": "markdown",
      "source": [
        "#API KEY"
      ],
      "metadata": {
        "id": "tpDqzeSvDnl8"
      }
    },
    {
      "cell_type": "code",
      "source": [
        "# ELEVENLABS AUDIO CODE WITH THE API CODE OF MY ACCOUNT\n",
        "# Install necessary libraries\n",
        "!pip install elevenlabs python-dotenv\n",
        "\n",
        "import os\n",
        "import uuid\n",
        "from elevenlabs import VoiceSettings\n",
        "from elevenlabs.client import ElevenLabs, ApiError\n",
        "\n",
        "# Declare the API key directly\n",
        "API_KEY = \"X\"\n",
        "client = ElevenLabs(api_key=API_KEY)"
      ],
      "metadata": {
        "id": "BDDY1CDiDpQN",
        "collapsed": true
      },
      "execution_count": null,
      "outputs": []
    },
    {
      "cell_type": "markdown",
      "source": [
        "# Audio Generation"
      ],
      "metadata": {
        "id": "5k9IoX_sCJYx"
      }
    },
    {
      "cell_type": "code",
      "source": [
        "# Function to generate audio using the Eleven Labs API\n",
        "def generate_audio(text, voice_id, audio_index):\n",
        "    try:\n",
        "        # Calling the text-to-speech conversion API with detailed parameters\n",
        "        response = client.text_to_speech.convert(\n",
        "            voice_id=voice_id,\n",
        "            output_format=\"mp3_22050_32\",\n",
        "            text=text,\n",
        "           model_id=\"eleven_multilingual_v2\",  # Use the turbo model for low latency\n",
        "            voice_settings=VoiceSettings(\n",
        "                stability=0.0,\n",
        "                similarity_boost=1.0,\n",
        "                style=0.0,\n",
        "                use_speaker_boost=True,\n",
        "            ),\n",
        "        )\n",
        "\n",
        "        # Generating a unique file name for the output MP3 file\n",
        "        save_file_path = f\"audio_files/audio{audio_index}.mp3\"\n",
        "\n",
        "        # Writing the audio to a file\n",
        "        with open(save_file_path, \"wb\") as f:\n",
        "            for chunk in response:\n",
        "                if chunk:\n",
        "                    f.write(chunk)\n",
        "\n",
        "        print(f\"{save_file_path}: A new audio file was saved successfully!\")\n",
        "        return save_file_path\n",
        "\n",
        "    except ApiError as e:\n",
        "        print(f\"API error: {e}\")\n",
        "        return None\n",
        "\n",
        "# Define voices for odd and even lines (replace with actual voice IDs)\n",
        "odd_voice = 'HEKjaqG2dPED8VVzR92a'  # Voice ID for the first speaker\n",
        "even_voice = 'jdCUBLZrDQYIoVbymEBl'  # Voice ID for the second speaker\n",
        "\n",
        "# Create a directory for audio files if it doesn't exist\n",
        "os.makedirs('audio_files', exist_ok=True)\n",
        "\n",
        "\n",
        "# List to store the paths of generated audio files\n",
        "audio_script = []\n",
        "\n",
        "# Generate audio for each line and save as MP3 files\n",
        "for i, (line_key, line_text) in enumerate(lines_dict.items(), start=1):\n",
        "    # Determine which voice to use based on the line number (0-based index)\n",
        "    voice_id = odd_voice if i % 2 == 1 else even_voice\n",
        "\n",
        "    # Generate audio for the current line\n",
        "    audio_file_path = generate_audio(line_text, voice_id, i)\n",
        "\n",
        "    # Add the generated audio file path to the audio_script list\n",
        "    if audio_file_path:\n",
        "        audio_script.append(audio_file_path)\n",
        "        print(f\"Generated audio for {line_key}: {audio_file_path}\")\n",
        "    else:\n",
        "        print(f\"Failed to generate audio for {line_key}\")\n",
        "\n",
        "# The list audio_script now contains the paths of all generated audio files\n",
        "print(\"Audio script:\", audio_script)"
      ],
      "metadata": {
        "id": "6LVR2FldCLTx",
        "collapsed": true
      },
      "execution_count": null,
      "outputs": []
    },
    {
      "cell_type": "markdown",
      "source": [
        "# **EDITED** Video Generation"
      ],
      "metadata": {
        "id": "zYaxwFwPCtL8"
      }
    },
    {
      "cell_type": "code",
      "source": [
        "version = 'v8.3'\n",
        "#@title <h1>Step 1: Setup \"Easy-Wav2Lip\"</h1> With one button: it's really that easy!\n",
        "#@markdown 👈 Click that little circle play button first - it will ask for Google Drive access: <br>\n",
        "#@markdown > Accept if your files are on Google Drive (recommended).\n",
        "#@markdown <br> Alternatively, you can click deny and upload files manually, but this is slower.\n",
        "\n",
        "# Check if already installed\n",
        "import os\n",
        "import sys\n",
        "\n",
        "if os.path.exists('installed.txt'):\n",
        "    if os.path.exists('last_file.txt'):\n",
        "        with open('last_file.txt', 'r') as file:\n",
        "            last_file = file.readline()\n",
        "        if last_file == version:\n",
        "            sys.exit(f'Easy-Wav2Lip {version} has already been run on this instance!')\n",
        "    else:\n",
        "        print(\"'last_file.txt' not found. Proceeding with the installation.\")\n",
        "\n",
        "# Check GPU is enabled\n",
        "print('checking for GPU')\n",
        "import torch\n",
        "if not torch.cuda.is_available():\n",
        "    sys.exit('No GPU in runtime. Please go to the \"Runtime\" menu, \"Change runtime type\" and select \"GPU\".')\n",
        "\n",
        "# Prompt to mount Google Drive\n",
        "print('requesting Google Drive access')\n",
        "try:\n",
        "    from google.colab import drive\n",
        "    drive.mount('/content/drive')\n",
        "except:\n",
        "    print(\"Google Drive not linked\")\n",
        "\n",
        "# Start timer\n",
        "import time\n",
        "start_time = time.time()\n",
        "\n",
        "# Clone git\n",
        "giturl = 'https://github.com/anothermartz/Easy-Wav2Lip.git'\n",
        "\n",
        "!git clone -b {version} {giturl}\n",
        "%cd 'Easy-Wav2Lip'\n",
        "working_directory = os.getcwd()\n",
        "!mkdir 'face_alignment' 'temp'\n",
        "\n",
        "# Install prerequisites\n",
        "print('installing batch_face')\n",
        "import warnings\n",
        "warnings.filterwarnings(\"ignore\", category=UserWarning, module='torchvision.transforms.functional_tensor')\n",
        "!pip install batch_face --quiet\n",
        "!pip install basicsr==1.4.2 --quiet\n",
        "print('fixing basicsr degradations.py')\n",
        "!cp /content/Easy-Wav2Lip/degradations.py /usr/local/lib/python3.10/dist-packages/basicsr/data/degradations.py\n",
        "print('installing gfpgan')\n",
        "!pip install gfpgan --quiet\n",
        "\n",
        "!python install.py\n",
        "\n",
        "from IPython.display import clear_output\n",
        "clear_output()\n",
        "print(\"Installation complete, move to Step 2!\")\n",
        "\n",
        "# End timer\n",
        "elapsed_time = time.time() - start_time\n",
        "from easy_functions import format_time\n",
        "print(f\"Execution time: {format_time(elapsed_time)}\")\n",
        "\n",
        "# Create 'last_file.txt' to store the current version\n",
        "with open('last_file.txt', 'w') as file:\n",
        "    file.write(version)\n"
      ],
      "metadata": {
        "cellView": "form",
        "id": "WXYXxrZPDvQK",
        "colab": {
          "base_uri": "https://localhost:8080/"
        },
        "outputId": "2c7dcf63-ba0c-4ff9-c6de-a6365ef55d4c"
      },
      "execution_count": null,
      "outputs": [
        {
          "output_type": "stream",
          "name": "stdout",
          "text": [
            "Installation complete, move to Step 2!\n",
            "Execution time: 38s\n"
          ]
        }
      ]
    },
    {
      "cell_type": "code",
      "source": [
        "import os\n",
        "import configparser\n",
        "import sys\n",
        "import time\n",
        "\n",
        "# Ensure step 1 has been run\n",
        "if not os.path.exists('installed.txt'):\n",
        "    sys.exit('Step 1 has not been run in this instance! Please run step 1 each time you disconnect from a runtime.')\n",
        "\n",
        "\n",
        "even_video_dir = \"/content/drive/MyDrive/Content/Deepfakes/CR7/CristianoRonaldoDF.mp4\"\n",
        "odd_video_dir = \"/content/drive/MyDrive/Content/Deepfakes/Rio Ferdinand/RioFerdinandDF.mp4\"\n",
        "\n",
        "# Define the audio_script dictionary\n",
        "audio_script = {\n",
        "    \"audio1\": \"/content/Easy-Wav2Lip/audio_files/audio1.mp3\",\n",
        "    \"audio2\": \"/content/Easy-Wav2Lip/audio_files/audio2.mp3\",\n",
        "    \"audio3\": \"/content/Easy-Wav2Lip/audio_files/audio3.mp3\",\n",
        "    \"audio4\": \"/content/Easy-Wav2Lip/audio_files/audio4.mp3\",\n",
        "    \"audio5\": \"/content/Easy-Wav2Lip/audio_files/audio5.mp3\",\n",
        "    \"audio6\": \"/content/Easy-Wav2Lip/audio_files/audio6.mp3\",\n",
        "    \"audio7\": \"/content/Easy-Wav2Lip/audio_files/audio7.mp3\",\n",
        "    \"audio8\": \"/content/Easy-Wav2Lip/audio_files/audio8.mp3\",\n",
        "    \"audio9\": \"/content/Easy-Wav2Lip/audio_files/audio9.mp3\",\n",
        "    \"audio10\": \"/content/Easy-Wav2Lip/audio_files/audio10.mp3\",\n",
        "    \"audio11\": \"/content/Easy-Wav2Lip/audio_files/audio11.mp3\",\n",
        "    \"audio12\": \"/content/Easy-Wav2Lip/audio_files/audio12.mp3\"\n",
        "}\n",
        "\n",
        "\n",
        "# Quality and other settings\n",
        "quality = \"Enhanced\"  # @param [\"Fast\", \"Improved\", \"Enhanced\"]\n",
        "output_height = \"full resolution\"  # @param [\"half resolution\", \"full resolution\", \"480\"] {allow-input: true}\n",
        "use_previous_tracking_data = True  # @param {type:\"boolean\"}\n",
        "wav2lip_version = \"Wav2Lip\"  # @param [\"Wav2Lip\", \"Wav2Lip_GAN\"]\n",
        "nosmooth = True  # @param {type:\"boolean\"}\n",
        "size = 1.5  # @param {type:\"slider\", min:1, max:6, step:0.1}\n",
        "feathering = 1  # @param {type:\"slider\", min:0, max:3, step:1}\n",
        "mouth_tracking = True  # @param {type:\"boolean\"}\n",
        "debug_mask = False  # @param {type:\"boolean\"}\n",
        "batch_process = False  # @param {type:\"boolean\"}\n",
        "output_suffix = \"_Easy-Wav2Lip\"  # @param {type:\"string\"}\n",
        "include_settings_in_suffix = False  # @param {type:\"boolean\"}\n",
        "preview_input = False  # @param {type:\"boolean\"}\n",
        "preview_settings = False  # @param {type:\"boolean\"}\n",
        "frame_to_preview = 100  # @param {type:\"integer\"}\n",
        "\n",
        "# Function to generate and preview video\n",
        "def generate_video(audio_file, video_file):\n",
        "    if not os.path.isfile(audio_file):\n",
        "        print(f\"Could not find file: {audio_file}\")\n",
        "        return\n",
        "\n",
        "    # Create a ConfigParser object\n",
        "    config = configparser.ConfigParser()\n",
        "\n",
        "    # Put all your variables in a dictionary\n",
        "    options = {\n",
        "        'video_file': video_file,\n",
        "        'vocal_file': audio_file,\n",
        "        'quality': quality,\n",
        "        'output_height': output_height,\n",
        "        'wav2lip_version': wav2lip_version,\n",
        "        'use_previous_tracking_data': use_previous_tracking_data,\n",
        "        'nosmooth': nosmooth\n",
        "    }\n",
        "    padding = {\n",
        "        'U': 0,  # You can adjust these values if needed\n",
        "        'D': 10,\n",
        "        'L': 0,\n",
        "        'R': 0\n",
        "    }\n",
        "    mask = {\n",
        "        'size': size,\n",
        "        'feathering': feathering,\n",
        "        'mouth_tracking': mouth_tracking,\n",
        "        'debug_mask': debug_mask\n",
        "    }\n",
        "    other = {\n",
        "        'batch_process': batch_process,\n",
        "        'output_suffix': output_suffix,\n",
        "        'include_settings_in_suffix': include_settings_in_suffix,\n",
        "        'preview_input': preview_input,\n",
        "        'preview_settings': preview_settings,\n",
        "        'frame_to_preview': frame_to_preview\n",
        "    }\n",
        "\n",
        "    # Add the dictionary to the ConfigParser object\n",
        "    config['OPTIONS'] = options\n",
        "    config['PADDING'] = padding\n",
        "    config['MASK'] = mask\n",
        "    config['OTHER'] = other\n",
        "\n",
        "    # Write the data to an INI file\n",
        "    with open('config.ini', 'w') as f:\n",
        "        config.write(f)\n",
        "\n",
        "    # Run the video processing\n",
        "    !python run.py\n",
        "\n",
        "    # Preview the video\n",
        "    from easy_functions import show_video\n",
        "    from IPython.display import Image\n",
        "    if preview_settings:\n",
        "        if os.path.isfile(os.path.join('temp', 'preview.jpg')):\n",
        "            display(Image(os.path.join('temp', 'preview.jpg')))\n",
        "    else:\n",
        "        if os.path.isfile(os.path.join('temp', 'output.mp4')):\n",
        "            print(f\"Loading video preview...\")\n",
        "            show_video(os.path.join('temp', 'output.mp4'))\n",
        "\n",
        "# Initialize a dictionary to store video export paths\n",
        "video_exports = {}\n",
        "\n",
        "# Loop through each audio file in the dictionary\n",
        "for i, (key, audio_file) in enumerate(audio_script.items()):\n",
        "    # Print the audio file path for debugging\n",
        "    print(f\"Processing file: {audio_file}\")\n",
        "\n",
        "    # Determine the video directory\n",
        "    if int(key[-1]) % 2 != 0:  # Odd key\n",
        "        video_file = odd_video_dir\n",
        "    else:  # Even key\n",
        "        video_file = even_video_dir\n",
        "\n",
        "    # Print the selected video directory for debugging\n",
        "    print(f\"Using video file: {video_file}\")\n",
        "\n",
        "    # Generate and preview the video\n",
        "    generate_video(audio_file, video_file)\n",
        "\n",
        "    # Construct the full path of the exported video\n",
        "    video_name = os.path.basename(video_file).replace(\".mp4\", f\"_{key}{output_suffix}.mp4\")\n",
        "    full_directory = os.path.join(os.path.dirname(video_file), video_name)\n",
        "\n",
        "    # Store the full path in the video_exports dictionary\n",
        "    video_exports[f'video{i+1}'] = full_directory\n",
        "\n",
        "    # Optional sleep time between processes\n",
        "    time.sleep(1)\n",
        "\n",
        "# Print the video exports dictionary with full paths\n",
        "print(\"Video exports:\", video_exports)\n"
      ],
      "metadata": {
        "id": "cxh9AnXJEQYX",
        "colab": {
          "base_uri": "https://localhost:8080/",
          "height": 1000
        },
        "outputId": "82174316-94d8-42bd-910e-49b4bf7b723d",
        "collapsed": true
      },
      "execution_count": null,
      "outputs": []
    },
    {
      "cell_type": "code",
      "source": [
        "#this code merges all the videos, uniformly scales them, puts them at the bottom of the screen\n",
        "# prints the final path, and exports them into one video\n",
        "import subprocess\n",
        "import os\n",
        "\n",
        "# Automatically create the video_paths list from the video_exports dictionary\n",
        "video_paths = list(video_exports.values())\n",
        "\n",
        "# Target resolution (9:16 aspect ratio)\n",
        "target_resolution = (1080, 1920)  # width x height\n",
        "\n",
        "# Directory to save temporary resized clips\n",
        "temp_dir = '/content/drive/MyDrive/A7A/temp_clips'\n",
        "os.makedirs(temp_dir, exist_ok=True)\n",
        "\n",
        "def resize_clip(input_path, output_path):\n",
        "    \"\"\"Resize the video clip to fit within the bottom half of the target resolution while maintaining aspect ratio.\"\"\"\n",
        "    target_width = 1080\n",
        "    target_half_height = 960  # Each half is 960 pixels tall\n",
        "\n",
        "    # Scale the video to fit within 1080x960 for the bottom half and add padding to reach 1920\n",
        "    command = [\n",
        "        'ffmpeg', '-y', '-i', input_path,  # Added '-y' to overwrite files\n",
        "        '-vf', f\"scale=w='if(gt(a,{target_width}/{target_half_height}),{target_width},-2)':\"\n",
        "               f\"h='if(gt(a,{target_width}/{target_half_height}),-2,{target_half_height})',\"\n",
        "               f\"pad={target_width}:{target_resolution[1]}:(ow-iw)/2:960\",  # Centered horizontally and positioned at the bottom\n",
        "        '-c:v', 'libx264', '-crf', '18', '-preset', 'veryfast', '-c:a', 'aac', '-strict', 'experimental',\n",
        "        output_path\n",
        "    ]\n",
        "\n",
        "    result = subprocess.run(command, stdout=subprocess.PIPE, stderr=subprocess.PIPE, text=True)\n",
        "    print(result.stdout)\n",
        "    print(result.stderr)\n",
        "\n",
        "# Process each video\n",
        "temp_files = []\n",
        "for i, video_path in enumerate(video_paths):\n",
        "    temp_file = os.path.join(temp_dir, f'resized_clip_{i}.mp4')  # Use unique names for each resized clip\n",
        "    resize_clip(video_path, temp_file)\n",
        "    temp_files.append(temp_file)\n",
        "\n",
        "# Create a concat list for FFmpeg\n",
        "concat_file = os.path.join(temp_dir, 'concat_list.txt')\n",
        "with open(concat_file, 'w') as f:\n",
        "    for temp_file in temp_files:\n",
        "        f.write(f\"file '{temp_file}'\\n\")\n",
        "\n",
        "# Final output path\n",
        "output_path = '/content/drive/MyDrive/A7A/final_video1.mp4'\n",
        "\n",
        "# Concatenate all resized clips\n",
        "concat_command = [\n",
        "    'ffmpeg', '-y', '-f', 'concat', '-safe', '0', '-i', concat_file, '-c', 'copy', output_path\n",
        "]\n",
        "concat_result = subprocess.run(concat_command, stdout=subprocess.PIPE, stderr=subprocess.PIPE, text=True)\n",
        "print(concat_result.stdout)\n",
        "print(concat_result.stderr)\n",
        "\n",
        "# Print the full directory of the final concatenated video\n",
        "print(f\"Final concatenated video saved at: {output_path}\")\n",
        "\n",
        "# Clean up temporary files safely\n",
        "for temp_file in temp_files:\n",
        "    if os.path.exists(temp_file):\n",
        "        os.remove(temp_file)\n",
        "if os.path.exists(concat_file):\n",
        "    os.remove(concat_file)\n",
        "if os.path.exists(temp_dir):\n",
        "    os.rmdir(temp_dir)"
      ],
      "metadata": {
        "id": "Rr6LANNfEbAW",
        "collapsed": true
      },
      "execution_count": null,
      "outputs": []
    }
  ]
}